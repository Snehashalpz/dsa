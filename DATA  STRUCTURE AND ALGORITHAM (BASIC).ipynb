{
 "cells": [
  {
   "cell_type": "markdown",
   "id": "2f7f6005",
   "metadata": {},
   "source": [
    "# DATA STRUCTURE AND ALGORITHM"
   ]
  },
  {
   "cell_type": "code",
   "execution_count": null,
   "id": "49c4a874",
   "metadata": {},
   "outputs": [],
   "source": [
    "DATA STRUCTURES:--- it is a way of organizing data that enables it to be processed in an efficient time.some commonly used \n",
    "          data structures are array,linked list, queue,tree etc., \n",
    "    \n",
    "DATA: data is information that has been translated into a form that is efficient for movement or processing in computing.\n",
    "    as it related to todays computers and transmission media data is information that has been converted into binary digital \n",
    "    form. the term \"raw data\" refers to data in its most basic digital format.\n",
    "    \n",
    "WHY WE NEED DATA STRUCTURE:\n",
    "    1. each data structure allows data to be stored differently\n",
    "    2. data structure allows efficient data search and retrieval.\n",
    "    3. specific data structures are chosen to solve specific problems.\n",
    "    4. data structure enables the management of large  amount of data such as large databases, and indexing services such\n",
    "       as hash table.\n",
    "        \n",
    "TYPES OF DATA STRUCTURE:\n",
    "    1. primitive:-- they are inbuild in any programm and its independent(int,float,string,bool)\n",
    "    2. non primitive:-- they are dependent or made use from other data structure(list,tuple,dict,array,lined list):\n",
    "            >> physical:- arrays,linked list.\n",
    "            >> logical:- are also called (ADT)-abstract data types:- stacks,queue,tree,graph.\n",
    "        \n",
    "\n",
    "        \n",
    "                                     NON-PRIMITIVE   DATA STRUCTURE:\n",
    "                \n",
    "                \n",
    "    \n",
    "    1.#LINEAR DATA STRUCTURE                                                 2.NON LINEAR DATA STRUCTUR\n",
    "    \n",
    "\n",
    ">> the elements in linear data structure are arranged                 >> non-linear data structure do not have eements in any \n",
    "impement because the elements are arranged in a specific               order as opposed to linear data structure instesd\n",
    "sequentially, one after the other. they are simple to                  they are arranged in a hierarchical order with one\n",
    "                                                                       element connected to one or more others.\n",
    "\n",
    ">> data structure where data elements are arranged sequentially      >> data structure whre data elements not arranged\n",
    "                                                                        sequentialy here multiple levels are involved\n",
    "and the elements are attached to its previous and next adjacent         transvering all the element in single run is not     \n",
    "element                                                                 possible.they are not easy to impliment as compared to\n",
    "                                                                        linear data structure eg.tree and graph\n",
    ">> in a linear data structure there is single level which means \n",
    "its not nesting. and we traverse all the element in single run.\n",
    "\n",
    ">> linear data structure are easy to implement and can be accessed\n",
    "easily as the memory is arranged in a linear way\n",
    "\n",
    "\n",
    "    1.#ARRAY DATA STRUCTURE:\n",
    "                                                                            1.#TREE DATA STRUCTURE:\n",
    "        > memory elements in an array are arranged in                  \n",
    "continous memory.an array's elements are all the same                  > > a graph is a nonlinear data structure made up\n",
    "                                                                        of nodes\n",
    "type.                                                                  and edges. the nodes are also known as verticles,and \n",
    "                                                                       edges are lines or arch that connect any two nodes in the\n",
    "    2.#STACK DATA STRUCTURE:                                           graph.\n",
    "        \n",
    "        > elements are stored using the LIFO principle.\n",
    "in other words the last element stored in a stack is                         2.#GRAPH DATA STRUCTURE:\n",
    "removed first a the operations are preformed from one end\n",
    "of the stack, namely \"top\"                                              >> a tree like a graph is a collection of vertices, and \n",
    "                                                                        edges. however there can only be one edege between two\n",
    "                                                                        vertices in a tree data structure.\n",
    "    3.#OUEUE DATA STRUCTURE:\n",
    "        \n",
    "        > oueue operates on the fifo principle which states\n",
    "that the first element stored is removed first ina  queue\n",
    "insertion and deletion are carried out from opposite.\n",
    "\n",
    "    4.#linked list \n",
    "        \n",
    "        \n",
    "real life examples:      \n",
    "        \n",
    "#ARRAY DATA STRUCTURE:\n",
    "   >> assume we are looing for the word \"simplilearn\" in dictionary and it begins with the letter \"s\",so we can search\n",
    "    for this word beginning with the letter \"s\". and this is an example array data structure.\n",
    "\n",
    "#LINED DATA STRCTURE:\n",
    "    >> if you have a playlist with three songs,the second song will be play afer the first and third song will play without \n",
    "      interruption because al three sonngs are linked as nodes in the lined list.\n",
    "        \n",
    "#STACK DATA STRUCTURE:\n",
    "    >> in a stack of books you must first remove the top most book before you access your desired boo. and if you want \n",
    "    to add  a\n",
    "      new book you can add it to the top of the boo stack.\n",
    "        \n",
    "#QUEUE DATA STRUCTURE:\n",
    "    >> any traditional \"Q\" format can be consided as an example for queue data structure unlike stacks, queue folows the\n",
    "    priciple of the first-in, first - out\n",
    "    \n",
    "#GRAPH DATA STRUCTURE:\n",
    "   >> google maps is a graph data structure in which the locations are connected if we want to go from one place to another\n",
    "    there are multiple we can use of algorithms to find the shorest path.\n",
    "    \n",
    "IMPORTANCE OF DATA STRUCTURE:\n",
    "    \n",
    "    >> data structures are widely used in almost every aspect of cs both for simple and complex computations.\n",
    "    >> ds are used in all areas of cs including artificial inteigence graphics, big data, operating systems, etc\n",
    "    >> ds are essential component of computer algorithms as they allow programmers to manage data efficiently.\n",
    "    >> a proper data structure selection can improve the efficiency of a computer progrsm or algorithm."
   ]
  },
  {
   "cell_type": "code",
   "execution_count": 1,
   "id": "d48ff905",
   "metadata": {},
   "outputs": [
    {
     "name": "stdout",
     "output_type": "stream",
     "text": [
      "1\n",
      "2\n",
      "3\n",
      "4\n",
      "5\n",
      "6\n",
      "7\n",
      "8\n",
      "9\n"
     ]
    }
   ],
   "source": [
    "#lineary\n",
    "lst=[1,2,3,4,5,6,7,8,9]\n",
    "for i in lst:\n",
    "    print(i)"
   ]
  },
  {
   "cell_type": "code",
   "execution_count": 3,
   "id": "8cb509cc",
   "metadata": {},
   "outputs": [
    {
     "name": "stdout",
     "output_type": "stream",
     "text": [
      "1\n",
      "2\n",
      "3\n",
      "4\n",
      "5\n",
      "11\n",
      "22\n",
      "33\n",
      "44\n",
      "55\n",
      "111\n",
      "222\n",
      "333\n",
      "444\n",
      "555\n"
     ]
    }
   ],
   "source": [
    "nsted_lst=[\n",
    "    [1,2,3,4,5],\n",
    "    [11,22,33,44,55],\n",
    "    [111,222,333,444,555]\n",
    "]\n",
    "\n",
    "for i in nsted_lst:\n",
    "    for j in i:\n",
    "        print(j)\n",
    "        "
   ]
  },
  {
   "cell_type": "code",
   "execution_count": null,
   "id": "ae0ce6e2",
   "metadata": {},
   "outputs": [],
   "source": [
    "#runtime analysis:- it is a study of a given algorithm or solution during the runtime.it tells us how our algorithms is \n",
    "#performing.\n"
   ]
  },
  {
   "cell_type": "code",
   "execution_count": null,
   "id": "d8c3901f",
   "metadata": {},
   "outputs": [],
   "source": [
    "Notations : \n",
    "    1. best case scenario :    (omega-)\n",
    "    2. worst case scenario :   (big O)\n",
    "    3. average case scenario : (theta)"
   ]
  },
  {
   "cell_type": "code",
   "execution_count": null,
   "id": "34350eaa",
   "metadata": {},
   "outputs": [],
   "source": [
    "time complexity:"
   ]
  },
  {
   "cell_type": "code",
   "execution_count": 6,
   "id": "6a6c39fb",
   "metadata": {},
   "outputs": [
    {
     "name": "stdout",
     "output_type": "stream",
     "text": [
      "iteration no 1\n",
      "iteration no 2\n",
      "iteration no 3\n",
      "iteration no 4\n",
      "iteration no 5\n",
      "iteration no 6\n",
      "iteration no 7\n",
      "iteration no 8\n"
     ]
    }
   ],
   "source": [
    "lst=[4,2,6,8,9,3,5,1]\n",
    "number= 11\n",
    "count= 1\n",
    "for i in lst:\n",
    "    print(\"iteration no\",count)\n",
    "    if i==number:\n",
    "        print(\"found\")\n",
    "\n",
    "    count+=1\n"
   ]
  },
  {
   "cell_type": "code",
   "execution_count": 7,
   "id": "20ad3bb9",
   "metadata": {},
   "outputs": [
    {
     "name": "stdout",
     "output_type": "stream",
     "text": [
      "iteration no 1\n",
      "found\n"
     ]
    }
   ],
   "source": [
    "lst=[4,2,6,8,9,3,5,1]\n",
    "number= 4\n",
    "count= 1\n",
    "for i in lst:\n",
    "    print(\"iteration no\",count)           #best case scenario\n",
    "    if i==number:\n",
    "        print(\"found\")\n",
    "        break\n",
    "    count+=1\n"
   ]
  },
  {
   "cell_type": "code",
   "execution_count": 8,
   "id": "727e9b66",
   "metadata": {},
   "outputs": [
    {
     "name": "stdout",
     "output_type": "stream",
     "text": [
      "iteration no 1\n",
      "iteration no 2\n",
      "iteration no 3\n",
      "iteration no 4\n",
      "iteration no 5\n",
      "iteration no 6\n",
      "iteration no 7\n",
      "iteration no 8\n",
      "found\n"
     ]
    }
   ],
   "source": [
    "lst=[4,2,6,8,9,3,5,1]\n",
    "number= 1\n",
    "count= 1\n",
    "for i in lst:\n",
    "    print(\"iteration no\",count)           # worst case scenario(memory was max and iteratio also max)\n",
    "    if i==number:\n",
    "        print(\"found\")\n",
    "        break\n",
    "    count+=1\n"
   ]
  },
  {
   "cell_type": "code",
   "execution_count": 9,
   "id": "f1a4bedd",
   "metadata": {},
   "outputs": [
    {
     "name": "stdout",
     "output_type": "stream",
     "text": [
      "iteration no 1\n",
      "iteration no 2\n",
      "iteration no 3\n",
      "iteration no 4\n",
      "found\n"
     ]
    }
   ],
   "source": [
    "lst=[4,2,6,8,9,3,5,1]\n",
    "number= 8\n",
    "count= 1\n",
    "for i in lst:\n",
    "    print(\"iteration no\",count)           #average case scenario\n",
    "    if i==number:\n",
    "        print(\"found\")\n",
    "        break\n",
    "    count+=1"
   ]
  },
  {
   "cell_type": "code",
   "execution_count": 85,
   "id": "962822e7",
   "metadata": {},
   "outputs": [
    {
     "ename": "IndentationError",
     "evalue": "unindent does not match any outer indentation level (<tokenize>, line 7)",
     "output_type": "error",
     "traceback": [
      "\u001b[1;36m  File \u001b[1;32m<tokenize>:7\u001b[1;36m\u001b[0m\n\u001b[1;33m    def add_element(self, new):\u001b[0m\n\u001b[1;37m    ^\u001b[0m\n\u001b[1;31mIndentationError\u001b[0m\u001b[1;31m:\u001b[0m unindent does not match any outer indentation level\n"
     ]
    }
   ],
   "source": [
    "class Array:\n",
    "    def __init__(self, length):\n",
    "            self.array = []\n",
    "            self.size = 0\n",
    "            self.maxlength = length \n",
    "\n",
    "        def add_element(self, new):\n",
    "            if self.size < self.maxlength:\n",
    "                if self.size>0:\n",
    "                    if type(new) == type(self.array[0]):\n",
    "                        self.array.append(new)\n",
    "                        self.size+=1\n",
    "\n",
    "                    else:\n",
    "                        print(\"Data types not Matching\")\n",
    "\n",
    "                else:\n",
    "                    self.array.append(new)\n",
    "                    self.size+=1\n",
    "\n",
    "            else:\n",
    "                print(\"Array is Full\")\n",
    "\n",
    "\n",
    "        def remove_element(self, index):\n",
    "            if self.size == 0:\n",
    "                print(\"Array is Empty\")\n",
    "\n",
    "            elif index+1 > self.size:\n",
    "                print(\"Index out of range\")\n",
    "\n",
    "            elif index == self.size-1:\n",
    "                self.array.pop()\n",
    "                self.size-=1\n",
    "            else:\n",
    "                for i in range(index, self.size-1):\n",
    "                    self.array[i] = self.array[i+1]\n",
    "                self.array.pop()\n",
    "\n",
    "\n",
    "        def display_array(self):\n",
    "            print(self.array)\n",
    "\n",
    "        def peak_element(self):\n",
    "            peak_element\n",
    "            class Array:\n",
    "        def _init_(self, length):\n",
    "            self.array = []\n",
    "            self.size = 0\n",
    "            self.maxlength = length \n",
    "\n",
    "        def add_element(self, new):\n",
    "            if self.size < self.maxlength:\n",
    "                if self.size>0:\n",
    "                    if type(new) == type(self.array[0]):\n",
    "                        self.array.append(new)\n",
    "                        self.size+=1\n",
    "\n",
    "                    else:\n",
    "                        print(\"Data types not Matching\")\n",
    "\n",
    "                else:\n",
    "                    self.array.append(new)\n",
    "                    self.size+=1\n",
    "\n",
    "            else:\n",
    "                print(\"Array is Full\")\n",
    "\n",
    "\n",
    "        def remove_element(self, index):\n",
    "            if self.size == 0:\n",
    "                print(\"Array is Empty\")\n",
    "\n",
    "            elif index+1 > self.size:\n",
    "                print(\"Index out of range\")\n",
    "\n",
    "            elif index == self.size-1:\n",
    "                self.array.pop()\n",
    "                self.size-=1\n",
    "            else:\n",
    "                for i in range(index, self.size-1):\n",
    "                    self.array[i] = self.array[i+1]\n",
    "                self.array.pop()\n",
    "\n",
    "\n",
    "        def display_array(self):\n",
    "            print(self.array) \n",
    "\n",
    "        def peak_element(self):\n",
    "            peak_element=[]\n",
    "            for i in range(self.size):\n",
    "                if i==0:\n",
    "                    if self.array[i]>self.array[i+1]:\n",
    "                        peak_element.append(self.array[i])\n",
    "\n",
    "                elif i==self.size-1:\n",
    "                    if self.array[i]>=self.array[i-1]:\n",
    "                        peak_element.append(self.array[i])\n",
    "                else:\n",
    "                    if self.array[i]> self.array[i-1] and self.array[i+1]:\n",
    "                        peak_element.append(self.array[i])\n",
    "\n",
    "            return peak_element"
   ]
  },
  {
   "cell_type": "code",
   "execution_count": 52,
   "id": "28b9ecd8",
   "metadata": {},
   "outputs": [
    {
     "ename": "TypeError",
     "evalue": "Array() takes no arguments",
     "output_type": "error",
     "traceback": [
      "\u001b[1;31m---------------------------------------------------------------------------\u001b[0m",
      "\u001b[1;31mTypeError\u001b[0m                                 Traceback (most recent call last)",
      "Cell \u001b[1;32mIn[52], line 1\u001b[0m\n\u001b[1;32m----> 1\u001b[0m array \u001b[38;5;241m=\u001b[39m \u001b[43mArray\u001b[49m\u001b[43m(\u001b[49m\u001b[38;5;241;43m10\u001b[39;49m\u001b[43m)\u001b[49m\n",
      "\u001b[1;31mTypeError\u001b[0m: Array() takes no arguments"
     ]
    }
   ],
   "source": [
    "array = Array(10)"
   ]
  },
  {
   "cell_type": "code",
   "execution_count": 65,
   "id": "787fccd6",
   "metadata": {},
   "outputs": [],
   "source": [
    "array.add_element(5)"
   ]
  },
  {
   "cell_type": "code",
   "execution_count": 69,
   "id": "f81c4511",
   "metadata": {},
   "outputs": [
    {
     "name": "stdout",
     "output_type": "stream",
     "text": [
      "[9, 9, 5, 8, 10, 67, 56, 6, 3, 5]\n"
     ]
    }
   ],
   "source": [
    "array.display_array()"
   ]
  },
  {
   "cell_type": "code",
   "execution_count": 86,
   "id": "21e94150",
   "metadata": {},
   "outputs": [
    {
     "ename": "AttributeError",
     "evalue": "'Array' object has no attribute 'peak_element'",
     "output_type": "error",
     "traceback": [
      "\u001b[1;31m---------------------------------------------------------------------------\u001b[0m",
      "\u001b[1;31mAttributeError\u001b[0m                            Traceback (most recent call last)",
      "Cell \u001b[1;32mIn[86], line 1\u001b[0m\n\u001b[1;32m----> 1\u001b[0m \u001b[43marray\u001b[49m\u001b[38;5;241;43m.\u001b[39;49m\u001b[43mpeak_element\u001b[49m\n",
      "\u001b[1;31mAttributeError\u001b[0m: 'Array' object has no attribute 'peak_element'"
     ]
    }
   ],
   "source": [
    "array.peak_element"
   ]
  },
  {
   "cell_type": "code",
   "execution_count": null,
   "id": "17b19f5f",
   "metadata": {},
   "outputs": [],
   "source": [
    "peak element - a largest element in the array of list "
   ]
  },
  {
   "cell_type": "code",
   "execution_count": 10,
   "id": "a4110731",
   "metadata": {},
   "outputs": [
    {
     "name": "stdout",
     "output_type": "stream",
     "text": [
      "[1 3 5]\n"
     ]
    }
   ],
   "source": [
    "import numpy as np\n",
    "array=np.array([1,3,5])\n",
    "print(array)"
   ]
  },
  {
   "cell_type": "markdown",
   "id": "2fff1007",
   "metadata": {},
   "source": [
    "# ALGORITHMS"
   ]
  },
  {
   "cell_type": "code",
   "execution_count": null,
   "id": "e2fd94ef",
   "metadata": {},
   "outputs": [],
   "source": [
    "Algorithms:  a method or  set of rules that must  be followed when performing problem-solving operations.as a result\n",
    "    an algorithm is a collection of rules or instructions that govern how a work is to be conducted step-by-step \n",
    "    to archive the desired results is termed as an algorithm\n",
    "    \n",
    "              INPUT --->> CONDITION FOR DESIRED RESULT  ---->> OUTPUT\n",
    "    \n",
    "real life example:-- sneha wants to prepare tea to do she is following a series of steps.\n",
    "    \n",
    "characteristics of an algorithm:\n",
    "    \n",
    "    1. clear and unambigous-- the algorith should be distinct in everyway and lead to a single conclusion\n",
    "    \n",
    "    2. well-defined input--- the algorithm must indicate what output will be produced,as well as be well-defined\n",
    "    \n",
    "    3. well-defined output-- the algorithm must cleary indicate what output will be produced as well as be well defined\n",
    "    \n",
    "    4. finite-ness-- the algorithm must be finite; it must not result in infinite loops or similar situations\n",
    "    \n",
    "    5. feasible-- the algorithm must be simple,generic,and practical,and it must be able to be executed with the resources\n",
    "         availabe it can't cantain any futuristic technoogies or anything like that\n",
    "        \n",
    "    6. language independent-- the designed algorithm must be simpe instruction in readable manner\n",
    "    \n",
    "algorithm analysis:\n",
    "    the\n"
   ]
  },
  {
   "cell_type": "markdown",
   "id": "2ea92c41",
   "metadata": {},
   "source": [
    "# array"
   ]
  },
  {
   "cell_type": "code",
   "execution_count": null,
   "id": "8ea9052c",
   "metadata": {},
   "outputs": [],
   "source": [
    "Array:-- array is data structure which consists of colection of homogenous data each element has a index value and can be\n",
    "    accessed sequencially\n",
    "       eg. marks=[100,80,90,80,90]\n",
    "\n",
    "properties of array:\n",
    "    1. it is a collection og homogenous element.\n",
    "    2. every element has a unique index\n",
    "    3. index starts with 0\n",
    "    \n",
    "\n",
    "an array is a linear data structure that collects elements of same data type and stores them in a contiguous and adjacent\n",
    "memory locations.\n",
    "\n",
    "array accepts only one data types.\n",
    "\n",
    ">> lower bound--- the first inialized location is called lower bound\n",
    ">> upper bound---- the last max value is called upper bound\n",
    "\n",
    "SYNTAX OF ARRAY---->> datatype- array_name[array_size];\n",
    "\n",
    "#initialization of arrays\n",
    "\n",
    "method 1-->> int a[5]={1,2,3,4,5};\n",
    "method 2-->> int a[]={1,2,3,4,5};\n",
    "method 3-->> int a[5];a[0]=1;\n",
    "               a[1]=2;\n",
    "               a[2]=3;\n",
    "               a[3]=4;\n",
    "               a[4]=5;\n",
    "method 4-->> int a[5];\n",
    "               for(i=0;i<5;i++)\n",
    "                  {scanf(\"%d\",a[i]);\n",
    "                                        }\n",
    "              \n",
    "OPERATIONS ON ARRAY ELEMENTS:\n",
    "    \n",
    "    >> #traversal--- traversal is an arrays is a process of visiting each elements once.\n",
    "traversl can be done by various means\n",
    "    > counting the array elements..\n",
    "    > printing the values stored in an array\n",
    "    > sum of al elements present in an array an many more\n",
    "    \n",
    "    >> #insertion--- insertion in an array is the process of including one or more elements in an array.\n",
    "insertion of an element can be done:\n",
    "    > at the beginning\n",
    "    > at the end\n",
    "    > at any given index of an array\n",
    "    \n",
    "    \n",
    "    >> #deletion-- deletion of an element is the process of removing the desired element and re-organize it\n",
    "deletion can also be done by different ways:\n",
    "    > from the beginning\n",
    "    > from the end\n",
    "    > from any given index \n",
    "    \n",
    "    >> #searching-- searching the process of finding a given vaue in a list of values.\n",
    "         >it decides whether the search ey is present in array or not\n",
    "         > it is an algorithmic process of finding a particular item ina collection og data\n",
    "\n",
    "    >> #sorting -- sorting in an array is the process in which elements sorted in a user defined order.\n",
    "    ex: numerical,alphabetical, etc\n",
    "        > by default sorting process is done in the ascending order.\n",
    "\n",
    "TYPES OF ARRAYS:\n",
    "    >>one dimensional  >>multi dimensional:\n",
    "          (1D)                  1.2D array\n",
    "                                2.3D array...ND\n",
    "                \n",
    ">>one dimensional array--->> a one dimensional array required only one subscript to specify elements in a array.\n",
    "     SYNTAX-- array data type - array name - array size[int marks[10];]\n",
    "    \n",
    ">>multi dimensional array--->>> multi dimensional arrays required more than one subscript to specify elements in a array."
   ]
  },
  {
   "cell_type": "code",
   "execution_count": null,
   "id": "f1c5f35e",
   "metadata": {},
   "outputs": [],
   "source": []
  },
  {
   "cell_type": "markdown",
   "id": "be691e0e",
   "metadata": {},
   "source": [
    "# two dimensional arrays"
   ]
  },
  {
   "cell_type": "code",
   "execution_count": null,
   "id": "143ffb7f",
   "metadata": {},
   "outputs": [],
   "source": [
    ">>two dimensional arrays that can be define as an arrays of array\n",
    ">> it is created to execute relational database which is like data structure.\n",
    ">> 2d arrays organised as matrices which are the collection of rows and coloumns.\n",
    "\n",
    "\n",
    "ADVANTAGE OF 2D ARRAYS:\n",
    "    >> the main advantage of two dimensional arrays is grouping of elements.\n",
    "SYNTAX\n",
    "    >> data_type name_of_array[R][C];\n",
    "    coloumn should not be empty\n",
    "    \n",
    "    eg: float arr[3][4]; \n",
    "        char names[7][15];  --- int num[3][3]={{1,2,3},{4,5,6},{7,8,9}};"
   ]
  },
  {
   "cell_type": "markdown",
   "id": "d48db791",
   "metadata": {},
   "source": [
    "# three dimensional arrays"
   ]
  },
  {
   "cell_type": "code",
   "execution_count": null,
   "id": "a6ab7442",
   "metadata": {},
   "outputs": [],
   "source": [
    "A 3d array is a collection of 2d arrays which consists of three subcripts:(bock size, row size, and coloumn size)"
   ]
  },
  {
   "cell_type": "code",
   "execution_count": null,
   "id": "4ca8f9ee",
   "metadata": {},
   "outputs": [],
   "source": [
    "ADVANTAGE OF ARRAY\n",
    "\n",
    "1. arrys stores multiple elements of same type with the same name.\n",
    "2. elements in array can accessed randomly using an index number.\n",
    "3. array memory is predefined so there is no extra memory loss.\n",
    "4. array avoid memory overfow\n",
    "5. 2d array can represent the tabular data in a efficient way."
   ]
  },
  {
   "cell_type": "code",
   "execution_count": null,
   "id": "8df8a353",
   "metadata": {},
   "outputs": [],
   "source": [
    "DISADVANTAGE OF ARRAY:\n",
    "\n",
    "1. the number of elements in an array should be pre-defined\n",
    "2. array is static in nature; its size cannot be varied after declaration\n",
    "3. insertion and deletion operation in an array is quite difficult as array stores element in continous form\n",
    "4. allocation excess memory than required may lead to memory wastage. "
   ]
  },
  {
   "cell_type": "markdown",
   "id": "7332ea9c",
   "metadata": {},
   "source": [
    "# stack"
   ]
  },
  {
   "cell_type": "code",
   "execution_count": null,
   "id": "271fd540",
   "metadata": {},
   "outputs": [],
   "source": [
    "STACK--A stack is a linear data structure that stores items in a Last-In/First-Out (LIFO)This means the last in first out\n",
    "last element inserted inside the stack is removed first orFirst-In/Last-Out (FILO) manner. \n",
    "\n",
    "You can think of the stack data structure as the pile of plates on top of another.\n",
    "Here, you can:\n",
    "\n",
    "    >>Put a new plate on top\n",
    "    >>Remove the top plate\n",
    "And, if you want the plate at the bottom, you must first remove all the plates on top. This is exactly how the stack data \n",
    "structure works.\n",
    "\n",
    "stacks are data structure arranged one above the another\n",
    "\n",
    "#LIFO Principle of Stack\n",
    "In programming terms, putting an item on top of the stack is called push and removing an item is called pop.\n",
    "\n",
    "        In stack, a new element is added at one end and an element is removed from that end only. \n",
    "        The insert and delete operations are often called push and pop.\n",
    "\n",
    "# The functions associated with stack are:\n",
    "\n",
    "empty() – Returns whether the stack is empty – Time Complexity: O(1)\n",
    "    \n",
    "size() – Returns the size of the stack – Time Complexity: O(1)\n",
    "    \n",
    "top() / peek() – \"show data/eement present on the top\",\n",
    "         Returns a reference to the topmost element of the stack – Time Complexity: O(1)\n",
    "        \n",
    "push(a) – \"inserting the a new eement\",Inserts the element ‘a’ at the top of the stack – Time Complexity: O(1)\n",
    "    \n",
    "pop() – \"deleting an element\" ,Deletes the topmost element of the stack – Time Complexity: O(1)\n",
    "\n",
    "#Stack in Python can be implemented using the following ways: \n",
    "\n",
    "list\n",
    "Collections.deque\n",
    "queue.LifoQueue\n",
    "\n",
    "#Advantages of Stack:\n",
    "Stacks are simple data structures with a well-defined set of operations, which makes them easy to understand and use.\n",
    "Stacks are efficient for adding and removing elements, as these operations have a time complexity of O(1).\n",
    "In order to reverse the order of elements we use the stack data structure.\n",
    "Stacks can be used to implement undo/redo functions in applications\n",
    "\n",
    "#Drawbacks of Stack:\n",
    "Restriction of size in Stack is a drawback and if they are full, you cannot add any more elements to the stack.\n",
    "Stacks do not provide fast access to elements other than the top element.\n",
    "Stacks do not support efficient searching, as you have to pop elements \n",
    "one by one until you find the element you are looking for."
   ]
  },
  {
   "cell_type": "code",
   "execution_count": 181,
   "id": "8541fd1f",
   "metadata": {},
   "outputs": [],
   "source": [
    "#implementation using array\n",
    "\n",
    "class stack:\n",
    "    def __init__(self,limit):\n",
    "        self.stack=[]\n",
    "        self.maxlength=limit\n",
    "        \n",
    "    def push(self,element):\n",
    "        if self.isfull():\n",
    "            print(\"stack is full\")\n",
    "        else:\n",
    "            self.stack.append(element)\n",
    "    def pop(self):\n",
    "        if self.isempty():\n",
    "            print(\"stack is empty\")\n",
    "        else:\n",
    "            poped = self.stack.pop()\n",
    "            return poped\n",
    "        \n",
    "    def isfull(self):\n",
    "        if len(self.stack) == self.maxlength:\n",
    "            return True\n",
    "        else:\n",
    "            return False\n",
    "        \n",
    "        \n",
    "    def isempty(self):\n",
    "        if len(self.stack)== 0:\n",
    "            return True\n",
    "        else:\n",
    "            return False\n",
    "        \n",
    "    def peek(self):\n",
    "        return self.stack[-1]\n",
    "    \n",
    "    def delete(self):\n",
    "        for i in range(len(self.stack)):\n",
    "            self.stack.pop()\n",
    "        return self.stack\n",
    "    \n",
    "    def display(self):\n",
    "        print(self.stack)\n",
    "        \n",
    "        \n",
    "\n",
    "\n"
   ]
  },
  {
   "cell_type": "code",
   "execution_count": 182,
   "id": "64275828",
   "metadata": {},
   "outputs": [],
   "source": [
    "stack = stack(3)"
   ]
  },
  {
   "cell_type": "code",
   "execution_count": 183,
   "id": "d50446aa",
   "metadata": {},
   "outputs": [
    {
     "name": "stdout",
     "output_type": "stream",
     "text": [
      "[]\n"
     ]
    }
   ],
   "source": [
    "stack.display()"
   ]
  },
  {
   "cell_type": "code",
   "execution_count": 184,
   "id": "2bb14c69",
   "metadata": {},
   "outputs": [
    {
     "name": "stdout",
     "output_type": "stream",
     "text": [
      "stack is empty\n"
     ]
    }
   ],
   "source": [
    "stack.pop()"
   ]
  },
  {
   "cell_type": "code",
   "execution_count": 185,
   "id": "91f1cb88",
   "metadata": {},
   "outputs": [],
   "source": [
    "stack.push(45)"
   ]
  },
  {
   "cell_type": "code",
   "execution_count": 186,
   "id": "8a5cd814",
   "metadata": {},
   "outputs": [
    {
     "data": {
      "text/plain": [
       "45"
      ]
     },
     "execution_count": 186,
     "metadata": {},
     "output_type": "execute_result"
    }
   ],
   "source": [
    "stack.peek()"
   ]
  },
  {
   "cell_type": "code",
   "execution_count": 188,
   "id": "6248c4a6",
   "metadata": {},
   "outputs": [
    {
     "data": {
      "text/plain": [
       "[]"
      ]
     },
     "execution_count": 188,
     "metadata": {},
     "output_type": "execute_result"
    }
   ],
   "source": [
    "stack.delete()"
   ]
  },
  {
   "cell_type": "code",
   "execution_count": 87,
   "id": "b2b4f7a9",
   "metadata": {},
   "outputs": [
    {
     "name": "stdout",
     "output_type": "stream",
     "text": [
      "Brackets are not balanced.\n"
     ]
    }
   ],
   "source": [
    "def are_brackets_balanced(expression):\n",
    "    stack = []\n",
    "    opening_brackets = ['[', '(', '{']\n",
    "    closing_brackets = [']', ')', '}']\n",
    "    \n",
    "    for char in expression:\n",
    "        if char in opening_brackets:\n",
    "            stack.append(char)\n",
    "        elif char in closing_brackets:\n",
    "            if len(stack) == 0:\n",
    "                return False\n",
    "            opening_bracket = stack.pop()\n",
    "            if opening_brackets.index(opening_bracket) != closing_brackets.index(char):\n",
    "                return False\n",
    "    \n",
    "    return len(stack) == 0\n",
    "\n",
    "expression = \"[(4+3-1*{7*2+5)}]\"\n",
    "balanced = are_brackets_balanced(expression)\n",
    "print(\"Brackets are balanced.\" if balanced else \"Brackets are not balanced.\")"
   ]
  },
  {
   "cell_type": "code",
   "execution_count": 90,
   "id": "8c78a89f",
   "metadata": {},
   "outputs": [
    {
     "name": "stdout",
     "output_type": "stream",
     "text": [
      "Brackets are balanced.\n"
     ]
    }
   ],
   "source": [
    "def are_brackets_balanced(expression):\n",
    "    stack = []\n",
    "    opening_brackets = ['[', '(', '{']\n",
    "    closing_brackets = [']', ')', '}']\n",
    "    \n",
    "    for char in expression:\n",
    "        if char in opening_brackets:\n",
    "            stack.append(char)\n",
    "        elif char in closing_brackets:\n",
    "            if len(stack) == 0:\n",
    "                return False\n",
    "            opening_bracket = stack.pop()\n",
    "            if opening_brackets.index(opening_bracket) != closing_brackets.index(char):\n",
    "                return False\n",
    "    \n",
    "    return len(stack) == 0\n",
    "\n",
    "expression = \"[(6*5)+{(1+4-(6/2))}]\"\n",
    "balanced = are_brackets_balanced(expression)\n",
    "print(\"Brackets are balanced.\" if balanced else \"Brackets are not balanced.\")"
   ]
  },
  {
   "cell_type": "code",
   "execution_count": 37,
   "id": "d22009f4",
   "metadata": {},
   "outputs": [
    {
     "name": "stdout",
     "output_type": "stream",
     "text": [
      "initia stack\n",
      "['a', 'b', 'c']\n",
      "\n",
      " elements popped from stack\n",
      "c\n",
      "b\n",
      "a\n",
      "\n",
      " stack after popped\n",
      "[]\n"
     ]
    }
   ],
   "source": [
    "#implementation using list\n",
    "stack =[]\n",
    "stack.append(\"a\")\n",
    "stack.append(\"b\")\n",
    "stack.append(\"c\")\n",
    "\n",
    "print(\"initia stack\")\n",
    "print(stack)\n",
    "\n",
    "print(\"\\n elements popped from stack\")\n",
    "print(stack.pop())\n",
    "print(stack.pop())\n",
    "print(stack.pop())\n",
    "\n",
    "print(\"\\n stack after popped\")\n",
    "print(stack)"
   ]
  },
  {
   "cell_type": "code",
   "execution_count": 96,
   "id": "61ea8046",
   "metadata": {},
   "outputs": [
    {
     "name": "stdout",
     "output_type": "stream",
     "text": [
      "Brackets are not balanced.\n"
     ]
    }
   ],
   "source": [
    "def are_brackets_balanced(expression):\n",
    "    stack = Stack()\n",
    "    opening_brackets = ['[', '(', '{']\n",
    "    closing_brackets = [']', ')', '}']\n",
    "    bracket_pairs = {'[': ']', '(': ')', '{': '}'}\n",
    "\n",
    "    for char in expression:\n",
    "        if char in opening_brackets:\n",
    "            stack.push(char)\n",
    "        elif char in closing_brackets:\n",
    "            if stack.is_empty():\n",
    "                return False\n",
    "            top = stack.pop()\n",
    "            if bracket_pairs[top] != char:\n",
    "                return False\n",
    "\n",
    "    return stack.is_empty()\n",
    "\n",
    "\n",
    "expression = \"[(4+3-1*{7*2+5)}]\"\n",
    "balanced = are_brackets_balanced(expression)\n",
    "print(\"Brackets are balanced.\" if balanced else \"Brackets are not balanced.\")\n"
   ]
  },
  {
   "cell_type": "code",
   "execution_count": 97,
   "id": "40c5de73",
   "metadata": {},
   "outputs": [
    {
     "name": "stdout",
     "output_type": "stream",
     "text": [
      "Brackets are balanced.\n"
     ]
    }
   ],
   "source": [
    "def are_brackets_balanced(expression):\n",
    "    stack = Stack()\n",
    "    opening_brackets = ['[', '(', '{']\n",
    "    closing_brackets = [']', ')', '}']\n",
    "    bracket_pairs = {'[': ']', '(': ')', '{': '}'}\n",
    "\n",
    "    for char in expression:\n",
    "        if char in opening_brackets:\n",
    "            stack.push(char)\n",
    "        elif char in closing_brackets:\n",
    "            if stack.is_empty():\n",
    "                return False\n",
    "            top = stack.pop()\n",
    "            if bracket_pairs[top] != char:\n",
    "                return False\n",
    "\n",
    "    return stack.is_empty()\n",
    "\n",
    "\n",
    "expression = \"[(6*5)+{(1+4-(6/2))}]\"\n",
    "balanced = are_brackets_balanced(expression)\n",
    "print(\"Brackets are balanced.\" if balanced else \"Brackets are not balanced.\")\n"
   ]
  },
  {
   "cell_type": "code",
   "execution_count": 39,
   "id": "d1733761",
   "metadata": {},
   "outputs": [
    {
     "name": "stdout",
     "output_type": "stream",
     "text": [
      "inialise stack\n",
      "deque(['a', 'b', 'c'])\n",
      "\n",
      "elements popped from stack\n",
      "c\n",
      "b\n",
      "a\n",
      "\n",
      " stack after pop\n",
      "deque([])\n"
     ]
    }
   ],
   "source": [
    "#implenentation using Collections.deque\n",
    "from collections import deque\n",
    "\n",
    "stack = deque()\n",
    "\n",
    "stack.append(\"a\")\n",
    "stack.append(\"b\")\n",
    "stack.append(\"c\")\n",
    "print(\"inialise stack\")\n",
    "print(stack)\n",
    "\n",
    "print(\"\\nelements popped from stack\")\n",
    "print(stack.pop())\n",
    "print(stack.pop())\n",
    "print(stack.pop())\n",
    "\n",
    "print(\"\\n stack after pop\")\n",
    "print(stack)"
   ]
  },
  {
   "cell_type": "code",
   "execution_count": null,
   "id": "d42e61ad",
   "metadata": {},
   "outputs": [],
   "source": [
    "#implenentation using queue.LifoQueue\n",
    "\n",
    "Queue module also has a LIFO Queue, which is basically a Stack.\n",
    "Data is inserted into Queue using the put() function and get() takes data out from the Queue. \n",
    "\n",
    "There are various functions available in this module: \n",
    "\n",
    "maxsize – Number of items allowed in the queue.\n",
    "\n",
    "empty() – Return True if the queue is empty, False otherwise.\n",
    "\n",
    "full() – Return True if there are maxsize items in the queue. If the queue was initialized with maxsize=0 (the default),\n",
    "then full() never returns True.\n",
    "\n",
    "get() – Remove and return an item from the queue. If the queue is empty, wait until an item is available.\n",
    "\n",
    "get_nowait() – Return an item if one is immediately available, else raise QueueEmpty.\n",
    "\n",
    "put(item) – Put an item into the queue. If the queue is full, wait until a free slot is available before adding the item.\n",
    "\n",
    "put_nowait(item) – Put an item into the queue without blocking. If no free slot is immediately available, raise QueueFull.\n",
    "\n",
    "qsize() – Return the number of items in the queue."
   ]
  },
  {
   "cell_type": "code",
   "execution_count": 42,
   "id": "395f090a",
   "metadata": {},
   "outputs": [
    {
     "name": "stdout",
     "output_type": "stream",
     "text": [
      "0\n",
      "Full True\n",
      "Size 3\n",
      "element poped from stack\n",
      "c\n",
      "b\n",
      "a\n",
      "\n",
      "Empty: True\n"
     ]
    }
   ],
   "source": [
    "#implenentation using queue.LifoQueue\n",
    "\n",
    "from queue import LifoQueue\n",
    "\n",
    "stack = LifoQueue(maxsize=3)\n",
    "print(stack.qsize())\n",
    "\n",
    "stack.put(\"a\")\n",
    "stack.put(\"b\")\n",
    "stack.put(\"c\")\n",
    "\n",
    "print(\"Full\",stack.full())\n",
    "print(\"Size\",stack.qsize())\n",
    "\n",
    "print(\"element poped from stack\")\n",
    "print(stack.get())\n",
    "print(stack.get())\n",
    "print(stack.get())\n",
    "\n",
    "print(\"\\nEmpty:\",stack.empty())"
   ]
  },
  {
   "cell_type": "code",
   "execution_count": 44,
   "id": "907c441c",
   "metadata": {},
   "outputs": [
    {
     "name": "stdout",
     "output_type": "stream",
     "text": [
      "appened item:1\n",
      "appened item:2\n",
      "appened item:3\n",
      "appened item:4\n",
      "popped item4\n",
      "stack after popping an element['1', '2', '3']\n"
     ]
    }
   ],
   "source": [
    "#stack implementation in python\n",
    "\n",
    "def create_stack():\n",
    "    stack =[]\n",
    "    return stack\n",
    "\n",
    "def check_empty(stack):\n",
    "    return len(stack)==0\n",
    "def push(stack,item):\n",
    "    stack.append(item)\n",
    "    print(\"appened item:\" + item)\n",
    "    \n",
    "def pop(stack):\n",
    "    if(check_empty(stack)):\n",
    "        return \"stack is empty\"\n",
    "    return stack.pop()\n",
    "\n",
    "stack = create_stack()\n",
    "push(stack,str(1))\n",
    "push(stack,str(2))\n",
    "push(stack,str(3))\n",
    "push(stack,str(4))\n",
    "\n",
    "print(\"popped item\"+ pop(stack))\n",
    "print(\"stack after popping an element\" + str(stack))"
   ]
  },
  {
   "cell_type": "markdown",
   "id": "1da73116",
   "metadata": {},
   "source": [
    "# QUEUE"
   ]
  },
  {
   "cell_type": "code",
   "execution_count": null,
   "id": "12cd6fea",
   "metadata": {},
   "outputs": [],
   "source": [
    "QUEUE-- A queue is a linear type of data structure used to store the data in a sequentially. The concept of queue is based \n",
    "on the FIFO, which means \"First in First Out\". It is also known as \"first come first severed\". \n",
    "The queue has the two ends front and rear. The next element is inserted from the rear end and removed from the front end.\n",
    "\n",
    "For example - There are 20 computers in the computer science lab and connected to a single printer. \n",
    "The students want to print their paper; the printer will print the first task and second, so on.If we are the last in line, \n",
    "we need to wait until all other tasks are completed that ahead of ours.\n",
    "\n",
    "The operating system manages the queue for processing the various processes within a computer.\n",
    "\n",
    ">>A good example of queue is any queue of consumers for a resource where the consumer that came first is served first.\n",
    "\n",
    "#Operations associated with queue are: \n",
    " \n",
    "\n",
    "Enqueue: Adds an item to the queue. If the queue is full, then it is said to be an Overflow condition – Time Complexity : O(1)\n",
    "        \n",
    "Dequeue: Removes an item from the queue. The items are popped in the same order in which they are pushed.\n",
    "    If the queue is empty, then it is said to be an Underflow condition – Time Complexity : O(1)\n",
    "        \n",
    "Front: Get the front item from queue – Time Complexity : O(1)\n",
    "        \n",
    "Rear: Get the last item from queue – Time Complexity : O(1)"
   ]
  },
  {
   "cell_type": "code",
   "execution_count": 190,
   "id": "a21d6b64",
   "metadata": {},
   "outputs": [
    {
     "name": "stdout",
     "output_type": "stream",
     "text": [
      "\n",
      " elements in the queue\n",
      "['x', 'y', 'z']\n",
      "\n",
      " element popped from queue\n",
      "z\n",
      "y\n",
      "x\n",
      "\n",
      " queue after pop\n",
      "[]\n"
     ]
    }
   ],
   "source": [
    "#implementing queue by list\n",
    "\n",
    "queue =[]\n",
    "\n",
    "queue.append(\"x\")\n",
    "queue.append(\"y\")\n",
    "queue.append(\"z\")\n",
    "\n",
    "print(\"\\n elements in the queue\")\n",
    "print(queue)\n",
    "\n",
    "print(\"\\n element popped from queue\")\n",
    "\n",
    "print(queue.pop())\n",
    "print(queue.pop())\n",
    "print(queue.pop())\n",
    "\n",
    "print(\"\\n queue after pop\")\n",
    "print(queue)"
   ]
  },
  {
   "cell_type": "code",
   "execution_count": 193,
   "id": "c052b5d4",
   "metadata": {},
   "outputs": [
    {
     "name": "stdout",
     "output_type": "stream",
     "text": [
      "\n",
      " initializing quue\n",
      "deque(['a', 'b', 'c'])\n",
      "\n",
      " element before popped\n",
      "a\n",
      "b\n",
      "c\n",
      "\n",
      " queue poped \n",
      "deque([])\n"
     ]
    }
   ],
   "source": [
    "#implementation of queue by using collections.deque\n",
    "\n",
    "from collections import deque\n",
    "\n",
    "queue = deque()\n",
    "queue.append(\"a\")\n",
    "queue.append(\"b\")\n",
    "queue.append(\"c\")\n",
    "\n",
    "print(\"\\n initializing quue\")\n",
    "print(queue)\n",
    "\n",
    "print(\"\\n element before popped\")\n",
    "print(queue.popleft())\n",
    "print(queue.popleft())\n",
    "print(queue.popleft())\n",
    "\n",
    "print(\"\\n queue poped \")\n",
    "print(queue)"
   ]
  },
  {
   "cell_type": "code",
   "execution_count": null,
   "id": "f77361a5",
   "metadata": {},
   "outputs": [],
   "source": [
    "#implementing by using queue.queue\n",
    "\n",
    "Implementation using queue.Queue\n",
    "Queue is built-in module of Python which is used to implement a queue. queue.Queue(maxsize) initializes a \n",
    "variable to a maximum size of maxsize. A maxsize of zero ‘0’ means a infinite queue. This Queue follows FIFO rule. \n",
    "\n",
    "\n",
    "\n",
    "There are various functions available in this module: \n",
    "    \n",
    "maxsize – Number of items allowed in the queue.\n",
    "\n",
    "empty() – Return True if the queue is empty, False otherwise.\n",
    "\n",
    "full() – Return True if there are maxsize items in the queue. If the queue was initialized with maxsize=0 (the default), \n",
    "then full() never returns True.\n",
    "\n",
    "get() – Remove and return an item from the queue. If queue is empty, wait until an item is available.\n",
    "\n",
    "get_nowait() – Return an item if one is immediately available, else raise QueueEmpty.\n",
    "\n",
    "put(item) – Put an item into the queue. If the queue is full, wait until a free slot is available before adding the item.\n",
    "\n",
    "put_nowait(item) – Put an item into the queue without blocking. If no free slot is immediately available, raise QueueFull.\n",
    "\n",
    "qsize() – Return the number of items in the queue."
   ]
  },
  {
   "cell_type": "code",
   "execution_count": 198,
   "id": "9c3bf1e5",
   "metadata": {},
   "outputs": [
    {
     "name": "stdout",
     "output_type": "stream",
     "text": [
      "0\n",
      "\n",
      "Full: True\n",
      "\n",
      " elements dequed fom the list\n",
      "a\n",
      "b\n",
      "c\n",
      "\n",
      "Empty: True\n",
      "\n",
      "Empty: False\n",
      "\n",
      "Full: False\n"
     ]
    }
   ],
   "source": [
    "from queue import Queue\n",
    "q= Queue(maxsize=3)\n",
    "print(q.qsize())\n",
    "\n",
    "q.put(\"a\")\n",
    "q.put(\"b\")\n",
    "q.put(\"c\")\n",
    "\n",
    "print(\"\\nFull:\", q.full())\n",
    "print(\"\\n elements dequed fom the list\")\n",
    "print(q.get())\n",
    "print(q.get())\n",
    "print(q.get())\n",
    "\n",
    "print(\"\\nEmpty:\",q.empty())\n",
    "\n",
    "q.put(1)\n",
    "print(\"\\nEmpty:\",q.empty())\n",
    "print(\"\\nFull:\",q.full())"
   ]
  },
  {
   "cell_type": "code",
   "execution_count": null,
   "id": "e4dfd109",
   "metadata": {},
   "outputs": [],
   "source": []
  }
 ],
 "metadata": {
  "kernelspec": {
   "display_name": "Python 3 (ipykernel)",
   "language": "python",
   "name": "python3"
  },
  "language_info": {
   "codemirror_mode": {
    "name": "ipython",
    "version": 3
   },
   "file_extension": ".py",
   "mimetype": "text/x-python",
   "name": "python",
   "nbconvert_exporter": "python",
   "pygments_lexer": "ipython3",
   "version": "3.10.9"
  }
 },
 "nbformat": 4,
 "nbformat_minor": 5
}
